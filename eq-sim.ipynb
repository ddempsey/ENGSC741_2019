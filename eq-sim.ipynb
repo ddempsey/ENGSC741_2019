{
  "cells": [
    {
      "metadata": {},
      "cell_type": "markdown",
      "source": "# Simulating Crack Propagation\n\nIn this notebook, we will examine some of the equations and numerical techniques for simulating **dynamic crack propagation**. The context will be **earthquake source mechanics** but much of the approach can be generalised to other problems."
    },
    {
      "metadata": {},
      "cell_type": "markdown",
      "source": "## Basic Equations\n\nFrom the notes on Earthquakes, we derived a frequency space expression for the stress change on a slipping crack under the quasidynamic assumption.\n\n\\begin{equation}\n\\hat{\\tau} = \\hat{\\tau}_0 - \\frac{i\\mu\\omega}{2c}\\hat{\\delta}-\\frac{\\mu|k|}{2}\\hat{\\delta}.\n\\end{equation}\n\nThe corresponding equation in real space is\n\n\\begin{equation}\n\\tau=\\tau_0-\\frac{\\mu}{2c}V - \\frac{\\mu}{2\\pi}\\int\\limits_{-\\infty}^\\infty \\frac{d\\delta/dx'}{x-x'}dx'.\n\\end{equation}\n\nwhere $V=d\\delta/dt$ is called the slip velocity."
    },
    {
      "metadata": {},
      "cell_type": "markdown",
      "source": "## Part 1: Computing Slip-induced Stress Changes\n\nTo solve dynamic crack problems, we need a method to compute the integral term above. Recall, this is the stress change on the crack resulting from slip, $\\delta$, after all seismic waves have dissipated. It is only realised at very long time, and is sometimes referred to as the 'quasistatic term'.\n\nOne way to solve this term, for arbitrary slip function, is by directly evaluating the integral. \n\nLet's see how that works. ***First, execute the cell below to create a slip profile.***"
    },
    {
      "metadata": {
        "trusted": true
      },
      "cell_type": "code",
      "source": "%matplotlib inline\nimport numpy as np\nfrom matplotlib import pyplot as plt\nx = np.linspace(0,1.e3,128)      # spatial coordinate (1 km)\nc,a,umax = 500,250,1             # center and aperture of crack, maximum slip\ndelta = np.array([np.sqrt(a**2 - (xi-c)**2)/a*umax if abs(xi-c)<a else 0 for xi in x ])   # elliptical slip profile\nf,ax = plt.subplots(1,1)\nax.plot(x,delta,'k-')\nax.set_xlabel('x [m]')\nax.set_ylabel('slip [m]')\nplt.show()",
      "execution_count": null,
      "outputs": []
    },
    {
      "metadata": {},
      "cell_type": "markdown",
      "source": "Now, compute the integral **at each $x$** using the Rectangular rule."
    },
    {
      "metadata": {
        "trusted": true
      },
      "cell_type": "code",
      "source": "xm = 0.5*(x[:-1]+x[1:])              # cell mid-points\nddelta = np.diff(delta)/np.diff(x)   # slip gradient at midpoints\ndts = 0.*x                           # empty vector to compute quasistatic stress change at midpoints\ndx = x[1]-x[0]\nmu = 30.e9                           # typical shear modulus of rock, 30 GPa\nfor i,xi in enumerate(x):           # loop over each value xm and compute dts\n    dts[i] = -mu/2./np.pi*np.sum(ddelta/(xi-xm))*dx     # Rectangular rule\n\nf,ax = plt.subplots(1,1)\nax.plot(x,delta,'k-')\nax.set_xlabel('x [m]')\nax.set_ylabel('slip [m]')\nax1=ax.twinx()\nax1.plot(x,dts/1.e6,'b-')\nax1.set_ylabel('stress change [MPa]')\nplt.show()",
      "execution_count": null,
      "outputs": []
    },
    {
      "metadata": {},
      "cell_type": "markdown",
      "source": "An alternative way to compute the quasistatic stress term is to recognise that the integral is formulated as a convolution. Therefore, we can ***multiply*** the Fourier transforms of the terms $1/x$ and $\\delta$ with appropriate frequency space terms corresponding to the spatial derivative $d/dx$. \n\n\\begin{equation}\n\\int\\limits_{-\\infty}^\\infty \\frac{d\\delta/dx'}{x-x'}dx' \\Longleftrightarrow \\pi\\,|k|\\,\\hat{\\delta}\n\\end{equation}\n\nThe algorithm then becomes\n\n1. Compute (absolute values of) the spatial wavenumbers, $|k|$. This needs only be done once.\n2. Take the Discrete Fourier Transform (DFT) of the slip vector, $\\delta$. This needs to be done each timestep, because $\\delta$ evolves with time.\n3. Multiply $|k|$ and $\\hat{\\delta}$.\n4. Take the Inverse Discrete Fourier Transform (IDFT) of the product.\n\nWe will use the Fast Fourier Transform algorithm to compute the DFTs and IDFTs."
    },
    {
      "metadata": {
        "trusted": true
      },
      "cell_type": "code",
      "source": "k = np.fft.fftfreq(len(x), x[1]-x[0])      # get the wave numbers - do this once\ndeltahat = np.fft.fft(delta)               # FFT of slip vector - do this each time step\ndts_FFT = -mu/2.*np.fft.ifft(abs(k)*deltahat)*2*np.pi   # inverse transform of product\n\nf,ax = plt.subplots(1,1)\nax.plot(x,delta,'k-')\nax.set_xlabel('x [m]')\nax.set_ylabel('slip [m]')\nax1=ax.twinx()\nax1.plot(x,dts/1.e6,'b--',label='direct')\nax1.plot(x,dts_FFT/1.e6,'g-', label = 'FFT')\nax1.set_ylabel('stress change [MPa]')\nax1.legend()\nplt.show()",
      "execution_count": null,
      "outputs": []
    },
    {
      "metadata": {},
      "cell_type": "markdown",
      "source": "Not the same, but similar. The differences arise due to a periodic boundary condition when implementing the FFT method. This assumes that slip is not localised to the crack, but rather is an infinitely tesselating pattern (an infinite number of slipping cracks, all affecting each other). One way to counteract this effect is to ***zero pad*** the slip vector.\n\n***Change the crack width from 250m to 25m and note how agreement between the FFT and direct evaluation improve***.\n\n***Define some other slip functions and recomputing the quasistatic stress change.***\n\n- ** A sinusoid.**\n- ** A square function.**\n- ** A Gaussian. **\n\n***What causes a stress singularity?***"
    },
    {
      "metadata": {},
      "cell_type": "markdown",
      "source": "What motivates an FFT method - why should we bother? The main reason is some quite significant gains in **computational efficiency**.\n\nThe code below simulates many repetitions of the direct integration and FFT methods for different vector lengths, $N$.\n\n***Execute the cell below to analyse scaling performance for the two methods***"
    },
    {
      "metadata": {
        "code_folding": [
          2,
          24
        ],
        "trusted": true
      },
      "cell_type": "code",
      "source": "from time import time\n\ndef dts_direct(x,u,reps):\n    ''' return time to evaluate direct integral REPS times\n    '''\n    # start the timer\n    tstart = time()\n    \n    # outside loop, calculations done once at beginning of simulation\n    xm = 0.5*(x[:-1]+x[1:])     \n    mu = 30.e9               \n    dx = (x[1]-x[0])*-mu/2./np.pi                     \n    dts = 0.*x                           \n    for i in range(reps):\n        # inside loop, calculations that change each time\n        ddelta = np.diff(delta)/np.diff(x)   \n        for i,xi in enumerate(x):           \n            dts[i] = np.sum(ddelta/(xi-xm))*dx     \n            \n    # end the timer\n    tend = time()\n    \n    return (tend-tstart)/reps\n    \ndef dts_FFT(x,u,reps):\n    ''' return time to evaluate FFT integral REPS times\n    '''\n    # start the timer\n    tstart = time()\n    \n    # outside loop, calculations done once at beginning of simulation\n    mu = 30.e9                           # typical shear modulus of rock, 30 GPa\n    absk = -mu/2.*abs(np.fft.fftfreq(len(x), x[1]-x[0]))*2*np.pi      # get the wave numbers\n    for i in range(reps):\n        # inside loop, calculations that change each time        \n        deltahat = np.fft.fft(delta)               # FFT of slip vector\n        dts_FFT = np.fft.ifft(absk*deltahat)\n        \n    # end the timer\n    tend = time()\n    \n    return (tend-tstart)/reps\n    \n\n# loop over different size vectors and record execution times\nn = 2**np.array(range(6,12))\ntime_direct = []\ntime_FFT = []\nfor ni in n:\n    x = np.linspace(0,1.,ni)      # spatial coordinate (1 km)\n    delta = np.random.rand(ni)    # slip function (not important what)\n    time_FFT.append(dts_FFT(x,delta,1000))     # have to do heaps of REPS to register on system timing\n    time_direct.append(dts_direct(x,delta,100))  # not for the direct integration though, so slow...\n\n# plot scalings\nf,ax = plt.subplots(1,1)\nax.plot(n, time_direct, 'ks',label='direct integration')\nax.plot(n, time_FFT, 'ko', mfc = 'w',label='FFT')\nax.legend()\nax.set_xlabel('vector length')\nax.set_ylabel('execution time [s]')\nax.set_xscale('log')\nax.set_yscale('log')\nplt.show()    ",
      "execution_count": null,
      "outputs": []
    },
    {
      "metadata": {},
      "cell_type": "markdown",
      "source": "*Estimate the gradients for curves fitted to the points above. Hence propose scaling laws for the two methods.*\n\n*Do some Googling and see how your answer compares.*"
    },
    {
      "metadata": {},
      "cell_type": "markdown",
      "source": "## Part 2: Solving for Crack Propagation\n\nTo solve the dynamic crack problem, we first need to formulate some evolution equations for the variables of interest. These will be **friction**, $f(x,t)$, and **slip**, $\\delta(x,t)$.\n\nRecall, we introduced a **linear slip-weakening** friction formulation\n\n\\begin{equation}\nf=\\begin{cases} \n      f_s - (f_s-f_d)\\delta/\\delta_c & \\delta\\leq \\delta_c \\\\\n      f_d & \\delta > \\delta_c \n\\end{cases}\n\\end{equation}\n\nTherefore, friction evolution is governing directly by slip evolution\n\n\\begin{equation}\n\\frac{df}{dt}=\\begin{cases} \n      - (f_s-f_d)V/\\delta_c & \\delta\\leq \\delta_c \\\\\n      0 & \\delta > \\delta_c \n\\end{cases}\n\\end{equation}\n\nwhere $V=d\\delta/dt$. Furthermore, we can rearrange the stress equation introduced at the beginning of this notebook in terms of $V=d\\delta/dt$ explicitly\n\n\\begin{equation}\n\\frac{d\\delta}{dt}=\\frac{2c}{\\mu}\\left(\\tau_0-f\\sigma_n - \\frac{\\mu}{2\\pi}\\int\\limits_{-\\infty}^\\infty \\frac{d\\delta/dx'}{x-x'}dx'\\right).\n\\end{equation}\n\nwhere we are **requiring** that fault stress, $\\tau$, at all times is **equal** to the (evolving) frictional strength, $f\\sigma_n$.\n\nThus, we have a pair of **coupled ODEs** that can be solved according to whichever timestepping method you prefer. \n\nFor example, an **improved Euler step**:\n\n1. Specify friction, $f_0$, and slip, $\\delta_0$, at time $t$.\n2. Compute velocity, $V_0$, at time $t$, using $f_0$ and $\\delta_0$.\n2. Compute predictor friction, $f_1^P$, at time, $t+dt$, using $V_0$.\n3. Compute predictor slip, $\\delta_1^P$, at time, $t+dt$, using $V_0$.\n4. Compute predictor velocity, $V_1^P$, at time $t+dt$, using $f_1^P$ and $\\delta_1^P$.\n5. Compute corrector velocity, $V_1^C=(V_0+V_1^P)/2$.\n6. Compute corrector friction, $f_1^C$, and slip, $\\delta_1^C$, at time $t+dt$, using $V_1^C$.\n\nThese equations have been implemented for you in the Python module `qk2.py`.\n\n***Execute the cell below to create and visualise an initial stress state for your fault (shear and normal stress, static and dynamic frictions).***"
    },
    {
      "metadata": {
        "trusted": true
      },
      "cell_type": "code",
      "source": "# CELL 1: CREATE INITIAL STRESS STATE\n\nfrom qk2 import*\n\n# create 1D mesh (power of 2 spacing for the FFT methods)\n    # 5 km long fault\nL = 5.e3\n    # power of 2 grid points\nx = np.linspace(0,L,2**10+1)\nx = 0.5*(x[1:]+x[:-1])\n\n# assign initial stress state\n    # normal stress\nsn = 30.e6\n    # static and dynamic friction coefficients\nfs,fd = 0.8, 0.6\n    # constant, just below the static strength but above dynamic\ns = (fs-0.01)*sn+0.*x             # the '+0.*x' is just a hacky way of getting the vector the right length...\n\n# zero pad the stress vector on both ends to avoid FFT reflection problems\ns[np.where(abs(x-L/2.)>L/8.)]=0\n\n# create a fault object with this initial stress state\nflt = Fault(x, s, fs=fs, fd=fd, normal=sn, dc=1e-2, dtn=30000, tmax=10.)\n\n# plot the initial stress state\nflt.show_stress(xlim = [L/4,3*L/4])",
      "execution_count": null,
      "outputs": []
    },
    {
      "metadata": {},
      "cell_type": "markdown",
      "source": "***Execute the cell below to trigger an earthquake on your fault. Visualise how slip, stress, and friction evolve over time.***"
    },
    {
      "metadata": {
        "trusted": true
      },
      "cell_type": "code",
      "source": "# CELL 2: SIMULATE AN EARTHQUAKE (CRACK PROPAGATION) AND VIEW THE OUTPUT\n\n# trigger an earthquake halfway along the fault\nflt.trigger(x=L/2.)\n\n# have a look at the earthquake\nflt.show_eq(xlim = [L/4,3*L/4])",
      "execution_count": null,
      "outputs": []
    },
    {
      "metadata": {},
      "cell_type": "markdown",
      "source": "***Referring to the top left plot, explain why the crack (earthquake) stops propagating where it does.***\n\n*your answer here*"
    },
    {
      "metadata": {},
      "cell_type": "markdown",
      "source": "***Referring to the right middle plot, identify periods of nucleation, propagation and arrest.***\n\n*your answer here*"
    },
    {
      "metadata": {},
      "cell_type": "markdown",
      "source": "***Is the final slip profile consistent with expressions derived in the notes?***\n\n*your answer here*"
    },
    {
      "metadata": {},
      "cell_type": "markdown",
      "source": "***Is the length of the nucleation period consistent with numbers derived in the notes?***\n\n*your answer here*"
    },
    {
      "metadata": {},
      "cell_type": "markdown",
      "source": "***Experiment with different initial stress configurations and triggering locations.***\n\n- **What happens if we don't trigger at the center of the positive stress drop region?**\n- **What happens if we have multiple regions of positive and negative stress drop?**\n- **What happens if the stress drop is larger?**\n\nHint: getting the right time output in these simulations is tricky. Experiment with the parameters `dtn` and `tmax`, while inspecting the right middle plot. You want to set these parameters not too much larger/longer than the length of the earthquake."
    },
    {
      "metadata": {
        "trusted": true
      },
      "cell_type": "code",
      "source": "# CELL 3: EXPERIMENT\n# create 1D mesh (power of 2 spacing for the FFT methods)\n    # 5 km long fault\nfrom qk2 import*\nL = 5.e3\n    # power of 2 grid points\nx = np.linspace(0,L,2**10+1)\nx = 0.5*(x[1:]+x[:-1])\n\n# assign initial stress state\n    # normal stress\nsn = 30.e6\n    # static and dynamic friction coefficients\nfs,fd = 0.8, 0.6\n    # constant, just below the static strength but above dynamic\ns = (fs-0.01)*sn+0.*x             # the '+0.*x' is just a hacky way of getting the vector the right length...\n\n# zero pad the stress vector on both ends to avoid FFT reflection problems\ns[np.where(abs(x-L/2.)>L/8.)]=0\n\n# create a fault object with this initial stress state\nflt = Fault(x, s, fs=fs, fd=fd, normal=sn, dc=1e-2, dtn=30000, tmax=10.)\n\n# plot the initial stress state\n    # OPTIONAL\n#flt.show_stress(xlim = [L/4,3*L/4])\n\n# trigger an earthquake halfway along the fault\nflt.trigger(x=2.5e3)\n\n# have a look at the earthquake\nflt.show_eq(xlim = [L/4,3*L/4])",
      "execution_count": null,
      "outputs": []
    },
    {
      "metadata": {},
      "cell_type": "markdown",
      "source": "## Timestep control\n\nThe physics of crack nucleation and propagation occur on substantially **different time scales**, which presents a challenge to time stepping methods. Should we set the timestep small, to **accurately capture** rapid evolution during crack propagation, but take an **unnecessarily large number** of timesteps during nucleation? Or is it better to **step rapidly** through nucleation, and **resolve poorly** the rupture phase?\n\nIdeally what we'd like is a timestep that changes after each improved Euler update, in a way that responds to the system evolution.\n\n### The Proportional-Integral-Derivative (PID) controller\n\nThis a control feedback mechanism used to **adjust a process toward some desirable setpoint** on the basis of a computed error value, $e(t)$. The key is that the imposed adjustment (in this, changing the timestep) depends both on the size of the error, $e$ (the **proportional** part), its recent history, $\\int e dt$, (the **integral** part) and how rapidly it is changing, $de/dt$, (the **derivative** part).\n\nFortunately, an improved Euler step embeds an error estimate within itself.\n\n\\begin{equation}\ne(t) = \\max\\left\\lvert\\frac{U_1^C-U_1^P}{U_1^C}\\right\\rvert\n\\end{equation}\n\nThe timestep is then updated by multiply by a ratio that depends on the PID terms\n\n\\begin{equation}\ndt_{i+1} = dt_i \\left(\\frac{\\epsilon_r}{e_i}\\right)^\\alpha \\left(\\frac{e_{i-1}}{e_i}\\right)^\\beta \\left(\\frac{e_{i-1}^2}{e_{i-2}e_{i}}\\right)^\\gamma\n\\end{equation}\n\nwhere $\\epsilon_r$ is the relative error tolerance.\n\nTaking the log of both sides\n\n\\begin{equation}\n\\log(dt_{i+1}) = \\log(dt_i)+\\alpha \\left[\\log\\epsilon_r-\\log e_i\\right] + \\beta \\left[\\log e_{i-1}-\\log e_i\\right]+\\gamma\\left[-\\log e_{i-2}+2\\log e_{i-1}-\\log e_i\\right].\n\\end{equation}\n\nWe can recognize:\n\n- $\\log\\epsilon_r-\\log e_i$, the integral term, the total error at time $t$.\n- $\\log e_{i-1}-\\log e_i$, the proportional term, the accumulated error at this time step.\n- $-\\log e_{i-2}+2\\log e_{i-1}-\\log e_i$, the derivative term, the rate at which the error is changing.\n\nThe powers $\\alpha$=0.17, $\\beta$=0.245 and $\\gamma$=0.05 are selected based on analysis and experience."
    }
  ],
  "metadata": {
    "kernelspec": {
      "name": "python36",
      "display_name": "Python 3.6",
      "language": "python"
    },
    "language_info": {
      "mimetype": "text/x-python",
      "nbconvert_exporter": "python",
      "name": "python",
      "pygments_lexer": "ipython3",
      "version": "3.6.6",
      "file_extension": ".py",
      "codemirror_mode": {
        "version": 3,
        "name": "ipython"
      }
    }
  },
  "nbformat": 4,
  "nbformat_minor": 2
}