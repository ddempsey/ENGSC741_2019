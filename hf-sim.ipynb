{
  "cells": [
    {
      "metadata": {},
      "cell_type": "markdown",
      "source": "## Non-local elasticity\n\nIn the notes, we derived a kernel formulation for the opening of a hydraulic fracture, $v(x)$, due to an internal distribution of pressure, $p(x)$.\n\n\\begin{equation}\nv(x) = \\frac{1}{E'} \\int\\limits_0^L p(\\xi)\\,G(x,\\xi)\\,d\\xi,\\quad\\quad G(x,\\xi) = \\frac{2}{\\pi} \\ln\\left\\lvert\\frac{\\sqrt{1-(\\xi/a)^2}+\\sqrt{1-(x/a)^2}}{\\sqrt{1-(\\xi/a)^2}-\\sqrt{1-(x/a)^2}}\\right\\rvert,\n\\end{equation}\n\nwhere $E'$ is Young's modulus, $G$ is the kernel (opening displacement due to a pair of point sources at $\\pm\\xi$), and $a$ is the length of the fracture.\n\n***Execute the cell below to plot the kernel and experiment with varying the point source position.***"
    },
    {
      "metadata": {
        "trusted": true
      },
      "cell_type": "code",
      "source": "%matplotlib inline\nfrom matplotlib import pyplot as plt\nimport numpy as np\nfrom ipywidgets import interact\n\n# LEFM point source kernel\ndef G(x,xi,a):\n    return 2/np.pi*np.log(abs((np.sqrt(1-(xi/a)**2)+np.sqrt(1-(x/a)**2))/(np.sqrt(1-(xi/a)**2)-np.sqrt(1-(x/a)**2))))\n    \n# plotting function\ndef plot_kernel(xi=0.5):\n    f,ax = plt.subplots(1,1)\n    f.set_size_inches(8,4)\n\n    a = 1.\n    x = np.linspace(-a,a,987)[1:-1]\n    xi = xi*a\n\n    ax.plot(x,a*G(x,xi,a),'b-')\n    ax.plot([xi,xi],[0,8*a],'b:')\n    ax.plot([-xi,-xi],[0,8*a],'b:')\n    ax.set_ylim([0,8*a])\n    \n# make plot interactive\ninteract(plot_kernel, xi = (0.,1,0.05))",
      "execution_count": 1,
      "outputs": [
        {
          "output_type": "display_data",
          "data": {
            "application/vnd.jupyter.widget-view+json": {
              "model_id": "0de8d4915d204bebaf3efbdf5cbc85e5",
              "version_minor": 0,
              "version_major": 2
            },
            "text/plain": "interactive(children=(FloatSlider(value=0.5, description='xi', max=1.0, step=0.05), Output()), _dom_classes=('…"
          },
          "metadata": {}
        },
        {
          "output_type": "execute_result",
          "execution_count": 1,
          "data": {
            "text/plain": "<function __main__.plot_kernel>"
          },
          "metadata": {}
        }
      ]
    },
    {
      "metadata": {},
      "cell_type": "markdown",
      "source": "If the fluid pressure inside the fracture is uniform, then summation of a infinite number of kernels should recover the Linear Elastic Fracture Mechanics (LEFM) limit for an internally pressurized Mode I crack (derived in Module 1), which is an elliptical opening profile.\n\n***Execute the cell below and experiment with adding more point sources (more kernels). Is the LEFM limit recovered?***"
    },
    {
      "metadata": {
        "trusted": true
      },
      "cell_type": "code",
      "source": "# plotting function\ndef plot_multiple_kernels(n = 1):\n    f,ax = plt.subplots(1,1)\n    f.set_size_inches(8,4)\n\n    a = 1.\n    \n    xis = np.linspace(0,1,n+2)[1:-1]\n    x = np.linspace(-a,a,987)[1:-1]\n    \n    Gs = 0.*x\n    for xi in xis:\n        xi = a*xi\n        Gs += G(x,xi,a)\n\n    ax.plot(x,a*Gs/n,'b-',label='kernel superposition')\n    ax.plot(x,2.*np.sqrt(a**2-x**2),'r--',label='elliptic solution')\n    ax.set_ylim([0,8*a])\n    ax.legend()\n    \n# make plot interactive\ninteract(plot_multiple_kernels, n = (1,20,1))",
      "execution_count": 2,
      "outputs": [
        {
          "output_type": "display_data",
          "data": {
            "application/vnd.jupyter.widget-view+json": {
              "model_id": "d19aa237d1114803a05fa4e606a6e720",
              "version_minor": 0,
              "version_major": 2
            },
            "text/plain": "interactive(children=(IntSlider(value=1, description='n', max=20, min=1), Output()), _dom_classes=('widget-int…"
          },
          "metadata": {}
        },
        {
          "output_type": "execute_result",
          "execution_count": 2,
          "data": {
            "text/plain": "<function __main__.plot_multiple_kernels>"
          },
          "metadata": {}
        }
      ]
    },
    {
      "metadata": {},
      "cell_type": "markdown",
      "source": "## Tasks\n\n***Modify the code above for an arbitrary pressure distribution defined as a function, $p(x)$.*** \n\n- **What restrictions should there be on the shape of $p(x)$?**\n- **How does the size of the pressure perturbation trade-off against the elastic modulus to affect the magnitude of the opening profile? Note, additional modifications will be required to the code above to properly implement the full LEFM solution.**\n\n***Compute and plot the stress intensity factor, $K_I$, in (3.18) as a function of the parameters of your pressure distribution.***"
    },
    {
      "metadata": {
        "trusted": false
      },
      "cell_type": "code",
      "source": "# for example, a quadratic pressure distribution, centred at the inlet and extending out to L/2\ndef p(x, x0, b, pmax):\n    ''' Returns a quadratic pressure distribution.\n        p = pmax*(1-((x-x0)/(b-x0))**2)     x>a\n        p = 0                               x<a\n    '''\n    p = pmax*(1-((x-x0)/(b-x0))**2)\n    p[np.where(abs(x)>b)]=0\n    return p\n    \nf,ax = plt.subplots(1,1)\nx = np.linspace(-1,1,101)\nax.plot(x, p(x,0,0.5,2.),'k-')\nplt.show()",
      "execution_count": 3,
      "outputs": [
        {
          "data": {
            "image/png": "[encoded data removed]",
            "text/plain": "<matplotlib.figure.Figure at 0x7fa9cfc736d8>"
          },
          "metadata": {},
          "output_type": "display_data"
        }
      ]
    }
  ],
  "metadata": {
    "kernelspec": {
      "name": "python3",
      "display_name": "Python 3",
      "language": "python"
    },
    "language_info": {
      "mimetype": "text/x-python",
      "nbconvert_exporter": "python",
      "name": "python",
      "file_extension": ".py",
      "version": "3.5.4",
      "pygments_lexer": "ipython3",
      "codemirror_mode": {
        "version": 3,
        "name": "ipython"
      }
    },
    "widgets": {
      "state": {
        "8c07755940da45b39ae17a16dc7f1bed": {
          "views": [
            {
              "cell_index": 0
            }
          ]
        },
        "bd637af507234746a0059157e8d2d2d7": {
          "views": [
            {
              "cell_index": 1
            }
          ]
        }
      },
      "version": "1.2.0"
    }
  },
  "nbformat": 4,
  "nbformat_minor": 2
}