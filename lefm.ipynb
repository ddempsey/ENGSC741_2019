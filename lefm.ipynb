{
  "cells": [
    {
      "metadata": {},
      "cell_type": "markdown",
      "source": "# Linear Elastic Fracture Mechanics\n\nIn the notes, we used complex functions to develop expressions for stress and displacement in the vicinity of an opening (tensile) crack. \n\nFor a general Westergaard stress function, $\\psi$, we derived the stresses\n\n\\begin{equation}\n\\sigma_x = \\text{Re}\\psi -y\\text{Im}\\psi',\\quad\\quad \\sigma_y = \\text{Re}\\psi + y\\text{Im}\\psi',\\quad\\quad \\tau_{xy}=-y\\text{Re}\\psi'.\n\\end{equation}\n\nFor the case of biaxial tension, we showed that forms for $\\psi$, $\\psi'$ and $\\bar{\\psi}$ consistent with the boundary conditions are\n\n\\begin{equation}\n\\psi = \\frac{\\sigma_\\infty}{\\sqrt{1-a^2/z^2}}, \\quad\\quad \\psi'=-\\frac{\\sigma_\\infty a^2}{z^3(1-a^2/z^2)^{3/2}}, \\quad\\quad \\bar{\\psi}=\\sigma_\\infty z\\sqrt{1-a^2/z^2}\n\\end{equation}\n\n***These functions are implemented in cell below.***"
    },
    {
      "metadata": {
        "trusted": true
      },
      "cell_type": "code",
      "source": "# run this cell by highlighting it and pressing Ctrl+Enter\n%matplotlib inline\nimport numpy as np\n\n# complex functions\ndef ipsi(z,a,s_inf): \n    return s_inf*np.sqrt(z**2-a**2)\ndef psi(z,a,s_inf): \n    return s_inf/np.sqrt(1-a**2/z**2)\ndef dpsi(z,a,s_inf): \n    return -s_inf*a**2/((1-a**2/z**2)**1.5)/z**3\n\n# stresses\ndef sx(z,a,s_inf):\n    return np.real(psi(z,a,s_inf))-np.imag(z)*np.imag(dpsi(z,a,s_inf))\ndef sy(z,a,s_inf):\n    return np.real(psi(z,a,s_inf))+np.imag(z)*np.imag(dpsi(z,a,s_inf))\ndef sxy(z,a,s_inf):\n    return -np.imag(z)*np.real(dpsi(z,a,s_inf))\n\ndef u(z,par): return 2*np.real(ipsi(z,par))-np.imag(z)/(1-nu)*np.imag(psi(z,par))\ndef v(z,par): return 2*np.imag(ipsi(z,par))-np.imag(z)/(1-nu)*np.real(psi(z,par))",
      "execution_count": null,
      "outputs": []
    },
    {
      "metadata": {},
      "cell_type": "markdown",
      "source": "## Stress state around the crack\n\n***Execute the cell below to plot contours of the three stresses around the open crack.***\n\n- **Does the stress state appear consistent with the boundary conditions?**"
    },
    {
      "metadata": {
        "trusted": true
      },
      "cell_type": "code",
      "source": "from matplotlib import pyplot as plt\nimport matplotlib.cm as cm\nf,axs = plt.subplots(1,3)\nf.set_size_inches(15,4)\n\n# define parameter and plotting grid\na = 1                # crack length\ns_inf = 1            # far field stress\nx = np.linspace(-5*a,5*a,1000)    # plot grid\nX,Y = np.meshgrid(x,x)\nZ = X+Y*1j \ncmw = cm.get_cmap('seismic')   \nlvls = np.linspace(-3*s_inf, 3*s_inf, 11)\n\nfor ax,s in zip(axs,[sx,sy,sxy]):\n    CS = ax.contourf(X,Y,s(Z,a,s_inf),levels=lvls,cmap=cmw)\n    plt.colorbar(CS,ax=ax)\n    ax.set_xlim([0,2*a])\n    ax.set_ylim([-a,a])\n    ax.plot([-a,a],[0,0],'k-', lw=2)    # plot the fracture as a thick line\n    ax.set_xlabel('x')\n    ax.set_ylabel('y')\n    ax.set_title(s.__name__)\n\nplt.show()",
      "execution_count": null,
      "outputs": []
    },
    {
      "metadata": {},
      "cell_type": "markdown",
      "source": "## Stresses near the crack tip\n\nBy transforming to a polar coordinate system centred at the crack tip, we approximate the crack-tip stresses in the limit $|r|<<a$\n\n\\begin{equation}\n\\sigma_{ij} = \\frac{K_I}{\\sqrt{2\\pi r}}f_{ij}(\\theta), \\quad\\quad f_{ij} = \\begin{cases} \n      \\cos\\frac{\\theta}{2}\\left(1-\\sin\\frac{\\theta}{2}\\sin\\frac{3\\theta}{2}\\right) & ij=xx \\\\\n      \\cos\\frac{\\theta}{2}\\left(1+\\sin\\frac{\\theta}{2}\\sin\\frac{3\\theta}{2}\\right) & ij=yy \\\\\n      \\cos\\frac{\\theta}{2}\\sin\\frac{\\theta}{2}\\cos\\frac{3\\theta}{2} & ij=xy \n\\end{cases}, \\quad\\quad K_I = \\sigma_\\infty \\sqrt{\\pi a}\n\\end{equation}\n\n***Execute the cell below to plot the approximated crack-tip stresses alongside the true solution.***"
    },
    {
      "metadata": {
        "trusted": true
      },
      "cell_type": "code",
      "source": "from ipywidgets import interact\n\ndef fxx(theta): return np.cos(theta/2.)*(1-np.sin(theta/2.)*np.sin(3*theta/2.))\ndef fyy(theta): return np.cos(theta/2.)*(1+np.sin(theta/2.)*np.sin(3*theta/2.))\ndef fxy(theta): return np.cos(theta/2.)*np.sin(theta/2.)*np.cos(3*theta/2.)\n\n# define parameters\na = 1\ns_inf = 1\nKI = s_inf*np.sqrt(np.pi*a)\n    \ndef plot_stress(theta=0):\n    f,axs = plt.subplots(1,3)\n    f.set_size_inches(15,4)\n    # polar coords \n    r = np.linspace(0.01*a,a,101)\n    theta = theta/180*np.pi      # convert to radians\n    for ax,fij,sij in zip(axs,[fxx,fyy,fxy],[sx,sy,sxy]):\n        # plot the approximation\n        s_approx = KI*fij(theta)/np.sqrt(2*np.pi*r)\n        ax.plot(r, s_approx,'b-',label='approx.')\n        # plot the true solution\n        z = a+r*np.cos(theta)+1j*r*np.sin(theta)\n        s_true = sij(z,a,s_inf)\n        ax.plot(r, s_true,'r--',label='full soln.')\n        # label plot\n        ax.set_xlabel('r')\n        ax.set_ylabel('s_'+fij.__name__[1:])\n        ax.set_ylim([0,5])\n    ax.set_ylim([-2.5,2.5])\n    ax.legend()\n    plt.show()\n    \ninteract(plot_stress, theta = (0,180,10))",
      "execution_count": null,
      "outputs": []
    },
    {
      "metadata": {},
      "cell_type": "markdown",
      "source": "## Crack displacements\n\nWe obtained the crack-normal displacement, $v$, through integration of the $y$ strain. \n\n\\begin{equation}\nv = \\frac{1-\\nu^2}{E}\\left(2\\text{Im}\\bar{\\psi} - \\frac{1}{1-\\nu}y\\text{Re}\\psi\\right)\n\\end{equation}\n\n***Execute the cell below to plot the crack displacement field.***"
    },
    {
      "metadata": {
        "trusted": true
      },
      "cell_type": "code",
      "source": "%matplotlib inline\nfrom ipywidgets import widgets, interact\n# displacement\ndef v(z,a,s_inf,nu,E): \n    return (1-nu**2)/E*(2*np.imag(ipsi(z,a,s_inf))-np.imag(z)/(1-nu)*np.real(psi(z,a,s_inf)))\n\ndef plot_displacement(logE):\n    f,(ax1,ax2)=plt.subplots(1,2)\n    f.set_size_inches([20,8])\n\n    # plot contours of displacement\n    nu = 0.25\n    E = 10**logE\n    lvls = np.linspace(-2,2,11)\n    CS = ax1.contourf(X,Y,v(Z,a,s_inf,nu,E),levels=lvls,cmap=cmw,extend='both')\n    plt.colorbar(CS,ax=ax1)\n    ax1.set_xlim([0,2*a])\n    ax1.set_ylim([-a,a])\n    ax1.plot([-a,a],[0,0],'k-', lw=2)    # plot the fracture as a thick line\n    ax1.set_xlabel('x')\n    ax1.set_ylabel('y')\n    ax1.set_title('crack-normal displacment')\n\n    # plot crack opening\n    x = np.linspace(0.001*a,0.9999*a,1001)\n    z = x + 1j*0*x\n    ax2.plot(x, v(z,a,s_inf,nu,E),'b-')\n    ax2.set_xlabel('x')\n    ax2.set_ylabel('v')\n    ax2.set_ylim([0,6])\n    ax2.set_title('Youngs modulus = {:3.2f}GPa'.format(E), size=14)\n    plt.show()\n\ninteract(plot_displacement, logE = (-1,1,0.2))",
      "execution_count": null,
      "outputs": []
    },
    {
      "metadata": {},
      "cell_type": "markdown",
      "source": "## Tasks\n\n***Modify the functions above to implement stress and displacement solutions for a shear crack.***"
    }
  ],
  "metadata": {
    "kernelspec": {
      "name": "python3",
      "display_name": "Python 3",
      "language": "python"
    },
    "language_info": {
      "mimetype": "text/x-python",
      "nbconvert_exporter": "python",
      "name": "python",
      "pygments_lexer": "ipython3",
      "version": "3.5.4",
      "file_extension": ".py",
      "codemirror_mode": {
        "version": 3,
        "name": "ipython"
      }
    },
    "widgets": {
      "state": {
        "c5732b18600d4d9c807ecff9108c0826": {
          "views": [
            {
              "cell_index": 6
            }
          ]
        }
      },
      "version": "1.2.0"
    }
  },
  "nbformat": 4,
  "nbformat_minor": 2
}